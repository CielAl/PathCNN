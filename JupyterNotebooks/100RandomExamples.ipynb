{
 "cells": [
  {
   "cell_type": "code",
   "execution_count": 4,
   "metadata": {},
   "outputs": [
    {
     "ename": "ModuleNotFoundError",
     "evalue": "No module named 'new_transforms'",
     "output_type": "error",
     "traceback": [
      "\u001b[0;31m---------------------------------------------------------------------------\u001b[0m",
      "\u001b[0;31mModuleNotFoundError\u001b[0m                       Traceback (most recent call last)",
      "\u001b[0;32m<ipython-input-4-200b483f9600>\u001b[0m in \u001b[0;36m<module>\u001b[0;34m\u001b[0m\n\u001b[1;32m      5\u001b[0m \u001b[0;32mimport\u001b[0m \u001b[0mcollections\u001b[0m\u001b[0;34m\u001b[0m\u001b[0;34m\u001b[0m\u001b[0m\n\u001b[1;32m      6\u001b[0m \u001b[0;32mimport\u001b[0m \u001b[0mtypes\u001b[0m\u001b[0;34m\u001b[0m\u001b[0;34m\u001b[0m\u001b[0m\n\u001b[0;32m----> 7\u001b[0;31m \u001b[0;32mimport\u001b[0m \u001b[0mnew_transforms\u001b[0m\u001b[0;34m\u001b[0m\u001b[0;34m\u001b[0m\u001b[0m\n\u001b[0m\u001b[1;32m      8\u001b[0m \u001b[0;32mimport\u001b[0m \u001b[0mos\u001b[0m\u001b[0;34m\u001b[0m\u001b[0;34m\u001b[0m\u001b[0m\n\u001b[1;32m      9\u001b[0m \u001b[0;34m\u001b[0m\u001b[0m\n",
      "\u001b[0;31mModuleNotFoundError\u001b[0m: No module named 'new_transforms'"
     ]
    }
   ],
   "source": [
    "import numpy as np\n",
    "import math\n",
    "import random\n",
    "from PIL import Image, ImageOps, ImageEnhance\n",
    "import collections\n",
    "import types\n",
    "import new_transforms\n",
    "import os\n",
    "\n",
    "\"\"\"\n",
    "Original code from new_transforms.py\n",
    "\n",
    "Taken directly from https://github.com/pytorch/vision/blob/master/torchvision/transforms.py\n",
    "Latest update that is not currently deployed to pip.\n",
    "All credits to the torchvision developers.\n",
    "\"\"\"\n",
    "\n",
    "# Particulars for this ipython notebook: \n",
    "import matplotlib.pyplot as plt\n",
    "from matplotlib.pyplot import imshow\n",
    "%matplotlib inline\n",
    "\n",
    "dir_lungTilesNormal = \"/beegfs/jmw784/Capstone/LungTilesSorted/Solid_Tissue_Normal/\"\n",
    "dir_lungTilesLUSC = \"/beegfs/jmw784/Capstone/LungTilesSorted/TCGA-LUSC/\"\n",
    "dir_lungTilesLUAD = \"/beegfs/jmw784/Capstone/LungTilesSorted/TCGA-LUAD/\""
   ]
  },
  {
   "cell_type": "markdown",
   "metadata": {},
   "source": [
    "# 100 examples: NORMAL"
   ]
  },
  {
   "cell_type": "code",
   "execution_count": 1,
   "metadata": {
    "scrolled": false
   },
   "outputs": [
    {
     "ename": "NameError",
     "evalue": "name 'os' is not defined",
     "output_type": "error",
     "traceback": [
      "\u001b[0;31m---------------------------------------------------------------------------\u001b[0m",
      "\u001b[0;31mNameError\u001b[0m                                 Traceback (most recent call last)",
      "\u001b[0;32m<ipython-input-1-929090c0da4c>\u001b[0m in \u001b[0;36m<module>\u001b[0;34m\u001b[0m\n\u001b[0;32m----> 1\u001b[0;31m \u001b[0mfiles_list\u001b[0m \u001b[0;34m=\u001b[0m \u001b[0mos\u001b[0m\u001b[0;34m.\u001b[0m\u001b[0mlistdir\u001b[0m\u001b[0;34m(\u001b[0m\u001b[0mdir_lungTilesNormal\u001b[0m\u001b[0;34m)\u001b[0m\u001b[0;34m\u001b[0m\u001b[0;34m\u001b[0m\u001b[0m\n\u001b[0m\u001b[1;32m      2\u001b[0m \u001b[0;34m\u001b[0m\u001b[0m\n\u001b[1;32m      3\u001b[0m \u001b[0mcRandomRotate\u001b[0m \u001b[0;34m=\u001b[0m \u001b[0mnew_transforms\u001b[0m\u001b[0;34m.\u001b[0m\u001b[0mRandomRotate\u001b[0m\u001b[0;34m(\u001b[0m\u001b[0;34m)\u001b[0m\u001b[0;34m\u001b[0m\u001b[0;34m\u001b[0m\u001b[0m\n\u001b[1;32m      4\u001b[0m \u001b[0mcJitter\u001b[0m \u001b[0;34m=\u001b[0m \u001b[0mnew_transforms\u001b[0m\u001b[0;34m.\u001b[0m\u001b[0mColorJitter\u001b[0m\u001b[0;34m(\u001b[0m\u001b[0mbrightness\u001b[0m\u001b[0;34m=\u001b[0m\u001b[0;36m0.25\u001b[0m\u001b[0;34m,\u001b[0m \u001b[0mcontrast\u001b[0m\u001b[0;34m=\u001b[0m\u001b[0;36m0.25\u001b[0m\u001b[0;34m,\u001b[0m \u001b[0msaturation\u001b[0m\u001b[0;34m=\u001b[0m\u001b[0;36m0.25\u001b[0m\u001b[0;34m,\u001b[0m \u001b[0mhue\u001b[0m\u001b[0;34m=\u001b[0m\u001b[0;36m0.05\u001b[0m\u001b[0;34m)\u001b[0m\u001b[0;34m\u001b[0m\u001b[0;34m\u001b[0m\u001b[0m\n\u001b[1;32m      5\u001b[0m \u001b[0mcVerticalFlip\u001b[0m \u001b[0;34m=\u001b[0m \u001b[0mnew_transforms\u001b[0m\u001b[0;34m.\u001b[0m\u001b[0mRandomVerticalFlip\u001b[0m\u001b[0;34m(\u001b[0m\u001b[0;34m)\u001b[0m\u001b[0;34m\u001b[0m\u001b[0;34m\u001b[0m\u001b[0m\n",
      "\u001b[0;31mNameError\u001b[0m: name 'os' is not defined"
     ]
    }
   ],
   "source": [
    "files_list = os.listdir(dir_lungTilesNormal)\n",
    "\n",
    "cRandomRotate = new_transforms.RandomRotate()\n",
    "cJitter = new_transforms.ColorJitter(brightness=0.25, contrast=0.25, saturation=0.25, hue=0.05)\n",
    "cVerticalFlip = new_transforms.RandomVerticalFlip()\n",
    "\n",
    "for repet in range(0, 100):\n",
    "    random = np.random.randint(0,len(files_list))\n",
    "    image = Image.open(dir_lungTilesNormal + files_list[random])\n",
    "    modified = cRandomRotate(image)\n",
    "    modified = cJitter(modified)\n",
    "    modified = cVerticalFlip(modified)\n",
    "    \n",
    "    f, (ax1, ax2) = plt.subplots(sharex=True, sharey=False, nrows=1, ncols=2)\n",
    "    f.set_figheight(4)\n",
    "    f.set_figwidth(8)\n",
    "    ax1.imshow(np.asarray(image))\n",
    "    ax2.imshow(np.asarray(modified))\n",
    "    ax1.set_title(\"Original\")\n",
    "    ax2.set_title(\"Modified\")"
   ]
  },
  {
   "cell_type": "markdown",
   "metadata": {
    "collapsed": true
   },
   "source": [
    "# 100 examples: LUSC"
   ]
  },
  {
   "cell_type": "code",
   "execution_count": 2,
   "metadata": {
    "scrolled": false
   },
   "outputs": [
    {
     "ename": "NameError",
     "evalue": "name 'os' is not defined",
     "output_type": "error",
     "traceback": [
      "\u001b[0;31m---------------------------------------------------------------------------\u001b[0m",
      "\u001b[0;31mNameError\u001b[0m                                 Traceback (most recent call last)",
      "\u001b[0;32m<ipython-input-2-94e0ac48662e>\u001b[0m in \u001b[0;36m<module>\u001b[0;34m\u001b[0m\n\u001b[0;32m----> 1\u001b[0;31m \u001b[0mfiles_list\u001b[0m \u001b[0;34m=\u001b[0m \u001b[0mos\u001b[0m\u001b[0;34m.\u001b[0m\u001b[0mlistdir\u001b[0m\u001b[0;34m(\u001b[0m\u001b[0mdir_lungTilesLUSC\u001b[0m\u001b[0;34m)\u001b[0m\u001b[0;34m\u001b[0m\u001b[0;34m\u001b[0m\u001b[0m\n\u001b[0m\u001b[1;32m      2\u001b[0m \u001b[0;34m\u001b[0m\u001b[0m\n\u001b[1;32m      3\u001b[0m \u001b[0mcRandomRotate\u001b[0m \u001b[0;34m=\u001b[0m \u001b[0mnew_transforms\u001b[0m\u001b[0;34m.\u001b[0m\u001b[0mRandomRotate\u001b[0m\u001b[0;34m(\u001b[0m\u001b[0;34m)\u001b[0m\u001b[0;34m\u001b[0m\u001b[0;34m\u001b[0m\u001b[0m\n\u001b[1;32m      4\u001b[0m \u001b[0mcJitter\u001b[0m \u001b[0;34m=\u001b[0m \u001b[0mnew_transforms\u001b[0m\u001b[0;34m.\u001b[0m\u001b[0mColorJitter\u001b[0m\u001b[0;34m(\u001b[0m\u001b[0mbrightness\u001b[0m\u001b[0;34m=\u001b[0m\u001b[0;36m0.25\u001b[0m\u001b[0;34m,\u001b[0m \u001b[0mcontrast\u001b[0m\u001b[0;34m=\u001b[0m\u001b[0;36m0.25\u001b[0m\u001b[0;34m,\u001b[0m \u001b[0msaturation\u001b[0m\u001b[0;34m=\u001b[0m\u001b[0;36m0.25\u001b[0m\u001b[0;34m,\u001b[0m \u001b[0mhue\u001b[0m\u001b[0;34m=\u001b[0m\u001b[0;36m0.05\u001b[0m\u001b[0;34m)\u001b[0m\u001b[0;34m\u001b[0m\u001b[0;34m\u001b[0m\u001b[0m\n\u001b[1;32m      5\u001b[0m \u001b[0mcVerticalFlip\u001b[0m \u001b[0;34m=\u001b[0m \u001b[0mnew_transforms\u001b[0m\u001b[0;34m.\u001b[0m\u001b[0mRandomVerticalFlip\u001b[0m\u001b[0;34m(\u001b[0m\u001b[0;34m)\u001b[0m\u001b[0;34m\u001b[0m\u001b[0;34m\u001b[0m\u001b[0m\n",
      "\u001b[0;31mNameError\u001b[0m: name 'os' is not defined"
     ]
    }
   ],
   "source": [
    "files_list = os.listdir(dir_lungTilesLUSC)\n",
    "\n",
    "cRandomRotate = new_transforms.RandomRotate()\n",
    "cJitter = new_transforms.ColorJitter(brightness=0.25, contrast=0.25, saturation=0.25, hue=0.05)\n",
    "cVerticalFlip = new_transforms.RandomVerticalFlip()\n",
    "\n",
    "for repet in range(0, 100):\n",
    "    random = np.random.randint(0,len(files_list))\n",
    "    image = Image.open(dir_lungTilesLUSC + files_list[random])\n",
    "    modified = cRandomRotate(image)\n",
    "    modified = cJitter(modified)\n",
    "    modified = cVerticalFlip(modified)\n",
    "    \n",
    "    f, (ax1, ax2) = plt.subplots(sharex=True, sharey=False, nrows=1, ncols=2)\n",
    "    f.set_figheight(4)\n",
    "    f.set_figwidth(8)\n",
    "    ax1.imshow(np.asarray(image))\n",
    "    ax2.imshow(np.asarray(modified))\n",
    "    ax1.set_title(\"Original\")\n",
    "    ax2.set_title(\"Modified\")"
   ]
  },
  {
   "cell_type": "markdown",
   "metadata": {
    "collapsed": true
   },
   "source": [
    "# 100 examples: LUAD"
   ]
  },
  {
   "cell_type": "code",
   "execution_count": 3,
   "metadata": {
    "scrolled": false
   },
   "outputs": [
    {
     "ename": "NameError",
     "evalue": "name 'os' is not defined",
     "output_type": "error",
     "traceback": [
      "\u001b[0;31m---------------------------------------------------------------------------\u001b[0m",
      "\u001b[0;31mNameError\u001b[0m                                 Traceback (most recent call last)",
      "\u001b[0;32m<ipython-input-3-493ea52fcd6a>\u001b[0m in \u001b[0;36m<module>\u001b[0;34m\u001b[0m\n\u001b[0;32m----> 1\u001b[0;31m \u001b[0mfiles_list\u001b[0m \u001b[0;34m=\u001b[0m \u001b[0mos\u001b[0m\u001b[0;34m.\u001b[0m\u001b[0mlistdir\u001b[0m\u001b[0;34m(\u001b[0m\u001b[0mdir_lungTilesLUAD\u001b[0m\u001b[0;34m)\u001b[0m\u001b[0;34m\u001b[0m\u001b[0;34m\u001b[0m\u001b[0m\n\u001b[0m\u001b[1;32m      2\u001b[0m \u001b[0;34m\u001b[0m\u001b[0m\n\u001b[1;32m      3\u001b[0m \u001b[0mcRandomRotate\u001b[0m \u001b[0;34m=\u001b[0m \u001b[0mnew_transforms\u001b[0m\u001b[0;34m.\u001b[0m\u001b[0mRandomRotate\u001b[0m\u001b[0;34m(\u001b[0m\u001b[0;34m)\u001b[0m\u001b[0;34m\u001b[0m\u001b[0;34m\u001b[0m\u001b[0m\n\u001b[1;32m      4\u001b[0m \u001b[0mcJitter\u001b[0m \u001b[0;34m=\u001b[0m \u001b[0mnew_transforms\u001b[0m\u001b[0;34m.\u001b[0m\u001b[0mColorJitter\u001b[0m\u001b[0;34m(\u001b[0m\u001b[0mbrightness\u001b[0m\u001b[0;34m=\u001b[0m\u001b[0;36m0.25\u001b[0m\u001b[0;34m,\u001b[0m \u001b[0mcontrast\u001b[0m\u001b[0;34m=\u001b[0m\u001b[0;36m0.25\u001b[0m\u001b[0;34m,\u001b[0m \u001b[0msaturation\u001b[0m\u001b[0;34m=\u001b[0m\u001b[0;36m0.25\u001b[0m\u001b[0;34m,\u001b[0m \u001b[0mhue\u001b[0m\u001b[0;34m=\u001b[0m\u001b[0;36m0.05\u001b[0m\u001b[0;34m)\u001b[0m\u001b[0;34m\u001b[0m\u001b[0;34m\u001b[0m\u001b[0m\n\u001b[1;32m      5\u001b[0m \u001b[0mcVerticalFlip\u001b[0m \u001b[0;34m=\u001b[0m \u001b[0mnew_transforms\u001b[0m\u001b[0;34m.\u001b[0m\u001b[0mRandomVerticalFlip\u001b[0m\u001b[0;34m(\u001b[0m\u001b[0;34m)\u001b[0m\u001b[0;34m\u001b[0m\u001b[0;34m\u001b[0m\u001b[0m\n",
      "\u001b[0;31mNameError\u001b[0m: name 'os' is not defined"
     ]
    }
   ],
   "source": [
    "files_list = os.listdir(dir_lungTilesLUAD)\n",
    "\n",
    "cRandomRotate = new_transforms.RandomRotate()\n",
    "cJitter = new_transforms.ColorJitter(brightness=0.25, contrast=0.25, saturation=0.25, hue=0.05)\n",
    "cVerticalFlip = new_transforms.RandomVerticalFlip()\n",
    "\n",
    "for repet in range(0, 100):\n",
    "    random = np.random.randint(0,len(files_list))\n",
    "    image = Image.open(dir_lungTilesLUAD + files_list[random])\n",
    "    modified = cRandomRotate(image)\n",
    "    modified = cJitter(modified)\n",
    "    modified = cVerticalFlip(modified)\n",
    "    \n",
    "    f, (ax1, ax2) = plt.subplots(sharex=True, sharey=False, nrows=1, ncols=2)\n",
    "    f.set_figheight(4)\n",
    "    f.set_figwidth(8)\n",
    "    ax1.imshow(np.asarray(image))\n",
    "    ax2.imshow(np.asarray(modified))\n",
    "    ax1.set_title(\"Original\")\n",
    "    ax2.set_title(\"Modified\")"
   ]
  },
  {
   "cell_type": "code",
   "execution_count": null,
   "metadata": {},
   "outputs": [],
   "source": []
  }
 ],
 "metadata": {
  "kernelspec": {
   "display_name": "Python 3",
   "language": "python",
   "name": "python3"
  },
  "language_info": {
   "codemirror_mode": {
    "name": "ipython",
    "version": 3
   },
   "file_extension": ".py",
   "mimetype": "text/x-python",
   "name": "python",
   "nbconvert_exporter": "python",
   "pygments_lexer": "ipython3",
   "version": "3.7.3"
  }
 },
 "nbformat": 4,
 "nbformat_minor": 2
}
