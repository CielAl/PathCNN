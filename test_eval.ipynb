{
 "cells": [
  {
   "cell_type": "markdown",
   "metadata": {},
   "source": [
    "# evaluation functions "
   ]
  },
  {
   "cell_type": "code",
   "execution_count": 1,
   "metadata": {},
   "outputs": [],
   "source": [
    "#libraries\n",
    "import matplotlib\n",
    "matplotlib.use('Agg')\n",
    "#import torch\n",
    "import numpy as np\n",
    "from sklearn.metrics import roc_curve, auc, roc_auc_score, cohen_kappa_score, jaccard_similarity_score, log_loss,recall_score, precision_score\n",
    "from sklearn.preprocessing import label_binarize\n",
    "from scipy import interp\n",
    "from itertools import cycle\n",
    "import matplotlib.pyplot as plt\n",
    "from PIL import Image\n",
    "from utils.eval import *\n",
    "from utils.dataloader import *\n",
    "import os\n",
    "from itertools import chain\n",
    "\n",
    "%matplotlib inline\n"
   ]
  },
  {
   "cell_type": "code",
   "execution_count": 2,
   "metadata": {},
   "outputs": [
    {
     "name": "stdout",
     "output_type": "stream",
     "text": [
      "[0, 1, 2]\n",
      "{0: 'Solid_Tissue_Normal', 1: 'TCGA-LUAD', 2: 'TCGA-LUSC'}\n"
     ]
    }
   ],
   "source": [
    "experiments = '/gpfs/scratch/bilals01/test-repo/experiments/'\n",
    "log_file = '/gpfs/scratch/bilals01/test-repo/logs/exp7_train.log'\n",
    "\n",
    "exp_name = 'exp7'\n",
    "num_class = 3\n",
    "pred_label = 'val_pred_label_avg_epoch_4.npy'\n",
    "\n",
    "class_names, class_codes, class_coding = get_class_coding(log_file)\n",
    "print(class_codes)\n",
    "print(class_coding)"
   ]
  },
  {
   "cell_type": "code",
   "execution_count": 3,
   "metadata": {},
   "outputs": [],
   "source": [
    "os.chdir(experiments + exp_name+ '/outputs/') #input\n",
    "pd = np.load(open(pred_label, 'rb'))\n",
    "predictions = pd[:,1:num_class+1] \n",
    "labels = pd[:,num_class+1]\n",
    "predictions = np.asarray([[float(j) for j in i] for i in predictions])\n",
    "labels = np.asarray([float(i) for i in labels])"
   ]
  },
  {
   "cell_type": "code",
   "execution_count": null,
   "metadata": {
    "scrolled": true
   },
   "outputs": [],
   "source": [
    "#output \n",
    "#tpr; true positive rate\n",
    "#fpr; false positive rate\n",
    "#roc_auc; main eval metrics\n",
    "#cu; upper confidence interval\n",
    "#cl; lower confidence interval\n",
    "fpr, tpr, roc_auc, cu, cl = get_auc(predictions, labels, class_names, class_codes)\n",
    "\n",
    "os.chdir(experiments+exp_name+'/outputs/')\n",
    "plt.savefig(pred_label[:-8]+'.png', dpi=500, bbox_inches = 'tight')\n",
    "\n",
    "#create a data frame\n",
    "results = {}\n",
    "[class_coding,roc_auc,cu,cl ]\n",
    "results['class_coding'] = class_coding\n",
    "results['eval_metrics'] = roc_auc\n",
    "results['cu'] = cu\n",
    "results['cl'] = cl\n",
    "results\n",
    "\n",
    "#write to json\n",
    "import json\n",
    "with open(pred_label[:-8]+'_results.json', 'w') as outfile:\n",
    "    json.dump(results, outfile)\n",
    "\n",
    "#write true positive and false positive rates if needed\n",
    "#import pickle\n",
    "#filehandler = open(b\"tpr_fpr.pkl\",\"wb\")\n",
    "#pickle.dump([tpr,fpr],filehandler)\n",
    "#filehandler.close()\n"
   ]
  },
  {
   "cell_type": "code",
   "execution_count": null,
   "metadata": {},
   "outputs": [],
   "source": []
  },
  {
   "cell_type": "code",
   "execution_count": null,
   "metadata": {},
   "outputs": [],
   "source": []
  }
 ],
 "metadata": {
  "kernelspec": {
   "display_name": "Python 3",
   "language": "python",
   "name": "python3"
  },
  "language_info": {
   "codemirror_mode": {
    "name": "ipython",
    "version": 3
   },
   "file_extension": ".py",
   "mimetype": "text/x-python",
   "name": "python",
   "nbconvert_exporter": "python",
   "pygments_lexer": "ipython3",
   "version": "3.6.5"
  }
 },
 "nbformat": 4,
 "nbformat_minor": 2
}
