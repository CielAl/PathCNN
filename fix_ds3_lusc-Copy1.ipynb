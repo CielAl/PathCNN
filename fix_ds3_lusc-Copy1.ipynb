{
 "cells": [
  {
   "cell_type": "code",
   "execution_count": 2,
   "metadata": {
    "collapsed": false,
    "deletable": true,
    "editable": true
   },
   "outputs": [
    {
     "name": "stdout",
     "output_type": "stream",
     "text": [
      "done\n"
     ]
    }
   ],
   "source": [
    "import os\n",
    "dir_lusc = '/beegfs/sb3923/DeepCancer/alldata/BreastTilesSorted/TCGA-BRCA'\n",
    "for f in os.listdir(dir_lusc):\n",
    "    path = os.path.join(dir_lusc, f)\n",
    "    old_link = os.readlink(path)\n",
    "    before = str(old_link)\n",
    "    after = '/beegfs/sb3923/DeepCancer/alldata/BreastTiles/'+f.split('_')[1]+'_files/20.0/'+f.split('_')[2]+'_'+f.split('_')[3]\n",
    "    new_link = old_link.replace(before, after)\n",
    "    os.unlink(path)\n",
    "    os.symlink(new_link, path)\n",
    "    #print(new_link)\n",
    "print('done')"
   ]
  },
  {
   "cell_type": "code",
   "execution_count": null,
   "metadata": {
    "collapsed": true,
    "deletable": true,
    "editable": true
   },
   "outputs": [],
   "source": []
  }
 ],
 "metadata": {
  "kernelspec": {
   "display_name": "Python 3",
   "language": "python",
   "name": "python3"
  },
  "language_info": {
   "codemirror_mode": {
    "name": "ipython",
    "version": 3
   },
   "file_extension": ".py",
   "mimetype": "text/x-python",
   "name": "python",
   "nbconvert_exporter": "python",
   "pygments_lexer": "ipython3",
   "version": "3.5.3"
  }
 },
 "nbformat": 4,
 "nbformat_minor": 2
}
